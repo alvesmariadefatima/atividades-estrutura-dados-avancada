{
  "nbformat": 4,
  "nbformat_minor": 0,
  "metadata": {
    "colab": {
      "provenance": []
    },
    "kernelspec": {
      "name": "python3",
      "display_name": "Python 3"
    },
    "language_info": {
      "name": "python"
    }
  },
  "cells": [
    {
      "cell_type": "markdown",
      "source": [
        "Busca sequencial"
      ],
      "metadata": {
        "id": "fgGhjVRvE3pV"
      }
    },
    {
      "cell_type": "code",
      "execution_count": 17,
      "metadata": {
        "id": "eHKpsM4VE2-Y",
        "colab": {
          "base_uri": "https://localhost:8080/"
        },
        "outputId": "16aed2d5-8df4-4430-a3c3-b8fb7f8f3cc3"
      },
      "outputs": [
        {
          "output_type": "stream",
          "name": "stdout",
          "text": [
            "A chave 200 não se encontra na lista (busca sequencial)\n",
            "Posições da chave 100 na lista (busca binária): [10, 11]\n"
          ]
        }
      ],
      "source": [
        "def buscaSequencial(lista, chave):\n",
        "    posicoes = []\n",
        "    for indice, numero in enumerate(lista):\n",
        "        if numero == chave:\n",
        "            posicoes.append(indice)\n",
        "    return posicoes\n",
        "\n",
        "def buscaBinaria(lista, chave):\n",
        "    posicoes = []\n",
        "    pos_inicial = 0\n",
        "    pos_final = len(lista) - 1\n",
        "\n",
        "    while pos_inicial <= pos_final:\n",
        "        pos_meio = (pos_inicial + pos_final) // 2\n",
        "\n",
        "        if lista[pos_meio] == chave:\n",
        "            posicoes.append(pos_meio)\n",
        "\n",
        "        # Agora, verifique nas duas direções para chaves repetidas\n",
        "        lado_esquerdo = pos_meio - 1\n",
        "        lado_direito = pos_meio + 1\n",
        "\n",
        "        while lado_esquerdo >= pos_inicial and lista[lado_esquerdo] == chave:\n",
        "            posicoes.append(lado_esquerdo)\n",
        "            lado_esquerdo -= 1\n",
        "\n",
        "        while lado_direito <= pos_final and lista[lado_direito] == chave:\n",
        "            posicoes.append(lado_direito)\n",
        "            lado_direito += 1\n",
        "\n",
        "        if lista[pos_meio] >= chave:\n",
        "            pos_final = pos_meio - 1\n",
        "        else:\n",
        "            pos_inicial = pos_meio + 1\n",
        "\n",
        "    return posicoes\n",
        "\n",
        "chave = 200\n",
        "lista = [20, 20, 5, 15, 24, 67, 45, 1, 76, 21, 11]\n",
        "\n",
        "posicoes_sequencial = buscaSequencial(lista, chave)\n",
        "if posicoes_sequencial:\n",
        "    print(\"Posições da chave\", chave, \"na lista (busca sequencial):\", posicoes_sequencial)\n",
        "else:\n",
        "    print(\"A chave\", chave, \"não se encontra na lista (busca sequencial)\")\n",
        "\n",
        "chave = 100\n",
        "# Para usar a busca binária, a lista deve estar ordenada\n",
        "lista_ordenada = [1, 5, 15, 20, 24, 45, 45, 67, 76, 78, 100, 100]\n",
        "\n",
        "posicoes_binaria = buscaBinaria(lista_ordenada, chave)\n",
        "if posicoes_binaria:\n",
        "    print(\"Posições da chave\", chave, \"na lista (busca binária):\", posicoes_binaria)\n",
        "else:\n",
        "    print(\"A chave\", chave, \"não se encontra na lista (busca binária)\")"
      ]
    }
  ]
}