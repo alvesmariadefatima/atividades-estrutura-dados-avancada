{
  "nbformat": 4,
  "nbformat_minor": 0,
  "metadata": {
    "colab": {
      "provenance": []
    },
    "kernelspec": {
      "name": "python3",
      "display_name": "Python 3"
    },
    "language_info": {
      "name": "python"
    }
  },
  "cells": [
    {
      "cell_type": "code",
      "execution_count": null,
      "metadata": {
        "id": "wHxpOsXcOc1l"
      },
      "outputs": [],
      "source": [
        "# Importing Libraries\n",
        "import pandas as pd\n",
        "from sklearn.datasets import load_iris\n",
        "from sklearn.tree import DecisionTreeClassifier\n",
        "\n",
        "# Load data and store it into pandas DataFrame objects\n",
        "iris = load_iris()\n",
        "X = pd.DataFrame(iris.data[:, :], columns = iris.feature_names[:])\n",
        "y = pd.DataFrame(iris.target, columns =[\"Species\"])\n",
        "\n",
        "# Defining and fitting a DecisionTreeClassifier instance\n",
        "clf = DecisionTreeClassifier(criterion = 'entropy')\n",
        "clf.fit(X,y)"
      ]
    },
    {
      "cell_type": "code",
      "source": [
        "# Visualize Decision Tree\n",
        "from sklearn.tree import export_graphviz\n",
        "from sklearn import tree\n",
        "# Creates dot file named tree.dot\n",
        "dot = tree.export_graphviz(clf, feature_names = list(X.columns),class_names = iris.target_names,filled = True,rounded = True)\n",
        "\n",
        "#graph = graphviz.Source(dot)\n",
        "#graph"
      ],
      "metadata": {
        "id": "sbkhBNKJOpOj"
      },
      "execution_count": 7,
      "outputs": []
    },
    {
      "cell_type": "code",
      "source": [
        "from IPython.display import Image\n",
        "import pydotplus\n",
        "\n",
        "graph = pydotplus.graph_from_dot_data(dot)\n",
        "graph.write_png('iris.png')\n",
        "Image(graph.create_png())"
      ],
      "metadata": {
        "id": "CbteH4YxOstz"
      },
      "execution_count": null,
      "outputs": []
    },
    {
      "cell_type": "code",
      "source": [
        "import numpy as np\n",
        "from matplotlib import pyplot as plt\n",
        "\n",
        "\n",
        "tree.plot_tree(clf)\n",
        "plt.show()"
      ],
      "metadata": {
        "id": "QmeYdb-OOwjq"
      },
      "execution_count": null,
      "outputs": []
    },
    {
      "cell_type": "code",
      "source": [
        "iris"
      ],
      "metadata": {
        "id": "D9Wq2GCMPa1p"
      },
      "execution_count": null,
      "outputs": []
    }
  ]
}