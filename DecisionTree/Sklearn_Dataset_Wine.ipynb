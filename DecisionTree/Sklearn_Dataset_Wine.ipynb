{
  "nbformat": 4,
  "nbformat_minor": 0,
  "metadata": {
    "colab": {
      "provenance": []
    },
    "kernelspec": {
      "name": "python3",
      "display_name": "Python 3"
    },
    "language_info": {
      "name": "python"
    }
  },
  "cells": [
    {
      "cell_type": "code",
      "source": [
        "wine"
      ],
      "metadata": {
        "id": "SH6avTvxaVk7"
      },
      "execution_count": null,
      "outputs": []
    },
    {
      "cell_type": "code",
      "source": [
        "from IPython.display import Image\n",
        "import pydotplus\n",
        "from sklearn import datasets\n",
        "from sklearn.tree import DecisionTreeClassifier\n",
        "from sklearn.model_selection import train_test_split\n",
        "from sklearn.tree import export_graphviz\n",
        "\n",
        "# Carregar o conjunto de dados Wine\n",
        "wine = datasets.load_wine()\n",
        "X = wine.data\n",
        "y = wine.target\n",
        "\n",
        "# Dividir o conjunto de dados em treinamento e teste\n",
        "X_train, X_test, y_train, y_test = train_test_split(X, y, test_size=0.3, random_state=42)\n",
        "\n",
        "# Criar o modelo de árvore de decisão\n",
        "clf = DecisionTreeClassifier(random_state=42)\n",
        "\n",
        "# Treinar o modelo\n",
        "clf.fit(X_train, y_train)\n",
        "\n",
        "# Gerar o código DOT para visualizar a árvore de decisão\n",
        "dot_data = export_graphviz(clf, out_file=None,\n",
        "                           feature_names=wine.feature_names,\n",
        "                           class_names=wine.target_names,\n",
        "                           filled=True, rounded=True,\n",
        "                           special_characters=True)\n",
        "\n",
        "# Criar o gráfico da árvore de decisão\n",
        "graph = pydotplus.graph_from_dot_data(dot_data)\n",
        "\n",
        "# Salvar a imagem em formato PNG\n",
        "graph.write_png('wine_tree.png')\n",
        "\n",
        "# Mostrar a imagem da árvore de decisão\n",
        "Image(graph.create_png())"
      ],
      "metadata": {
        "id": "40uf5SSeZRmJ"
      },
      "execution_count": null,
      "outputs": []
    }
  ]
}