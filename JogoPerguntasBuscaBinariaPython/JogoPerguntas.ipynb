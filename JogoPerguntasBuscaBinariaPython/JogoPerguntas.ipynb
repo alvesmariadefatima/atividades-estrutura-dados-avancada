{
  "nbformat": 4,
  "nbformat_minor": 0,
  "metadata": {
    "colab": {
      "provenance": []
    },
    "kernelspec": {
      "name": "python3",
      "display_name": "Python 3"
    },
    "language_info": {
      "name": "python"
    }
  },
  "cells": [
    {
      "cell_type": "code",
      "execution_count": null,
      "metadata": {
        "id": "CzGj3-r6av1p"
      },
      "outputs": [],
      "source": [
        "def busca_binaria(limite_inferior, limite_superior):\n",
        "    tentativas = 0\n",
        "\n",
        "    while limite_inferior <= limite_superior:\n",
        "        # Calcula o palpite como a média dos limites\n",
        "        palpite = (limite_inferior + limite_superior) // 2\n",
        "        tentativas += 1\n",
        "\n",
        "        # Pergunta ao jogador se o palpite é o número correto\n",
        "        resposta = input(f\"É {palpite}? (sim/não): \").lower()\n",
        "\n",
        "        if resposta == \"sim\":\n",
        "            print(f\"O número {palpite} foi encontrado em {tentativas} tentativas!\")\n",
        "            return\n",
        "        elif resposta == \"não\":\n",
        "            maior_ou_menor = input(f\"O número é maior ou menor que {palpite}? (maior/menor): \").lower()\n",
        "            if maior_ou_menor == \"maior\":\n",
        "                limite_inferior = palpite + 1\n",
        "            elif maior_ou_menor == \"menor\":\n",
        "                limite_superior = palpite - 1\n",
        "            else:\n",
        "                print(\"Por favor, responda 'maior' ou 'menor'.\")\n",
        "        else:\n",
        "            print(\"Por favor, responda 'sim' ou 'não'.\")\n",
        "\n",
        "def jogo_das_perguntas(n):\n",
        "    limite_inferior = 1\n",
        "    limite_superior = n\n",
        "\n",
        "    busca_binaria(limite_inferior, limite_superior)\n",
        "\n",
        "# Chame a função com o valor de 'n' desejado\n",
        "n = int(input(\"Digite o valor de 'n': \"))\n",
        "jogo_das_perguntas(n)"
      ]
    }
  ]
}